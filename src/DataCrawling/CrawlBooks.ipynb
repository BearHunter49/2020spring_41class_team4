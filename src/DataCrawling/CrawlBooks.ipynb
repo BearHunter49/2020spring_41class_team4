{
 "cells": [
  {
   "cell_type": "code",
   "execution_count": null,
   "metadata": {},
   "outputs": [],
   "source": [
    "from selenium import webdriver\n",
    "from selenium.webdriver.support.ui import Select\n",
    "from bs4 import BeautifulSoup\n",
    "from time import sleep\n",
    "from openpyxl import Workbook,load_workbook\n",
    "import getpass\n",
    "import pandas as pd"
   ]
  },
  {
   "cell_type": "code",
   "execution_count": null,
   "metadata": {},
   "outputs": [],
   "source": [
    "driver = webdriver.Chrome(executable_path=r'./chromedriver')"
   ]
  },
  {
   "cell_type": "code",
   "execution_count": null,
   "metadata": {},
   "outputs": [],
   "source": [
    "driver.get('https://everytime.kr/login')\n",
    "driver.implicitly_wait(5)\n",
    "username = ''#or input('에브리타임 아이디 : ')\n",
    "password = ''#or getpass.getpass()\n",
    "driver.find_element_by_name('userid').send_keys(username)\n",
    "driver.find_element_by_name('password').send_keys(password)"
   ]
  },
  {
   "cell_type": "code",
   "execution_count": null,
   "metadata": {},
   "outputs": [],
   "source": [
    "# 로그인 버튼을 눌러주자.\n",
    "driver.find_element_by_xpath('//*[@id=\"container\"]/form/p[3]/input').click()"
   ]
  },
  {
   "cell_type": "code",
   "execution_count": null,
   "metadata": {},
   "outputs": [],
   "source": [
    "data = pd.read_csv('RRclass20-1.csv')"
   ]
  },
  {
   "cell_type": "code",
   "execution_count": null,
   "metadata": {},
   "outputs": [],
   "source": [
    "cla2 = cla.drop_duplicates(['2','3'])\n",
    "cla2.reset_index(inplace=True, drop=True)\n",
    "cla2.head(10)"
   ]
  },
  {
   "cell_type": "markdown",
   "metadata": {},
   "source": [
    "Local 에서 돌렸기에 chromedriver everytime 연결시간이 초과되어 \n",
    "각각의 subset으로 lecture들을 나누어 크롤링 진행."
   ]
  },
  {
   "cell_type": "code",
   "execution_count": null,
   "metadata": {},
   "outputs": [],
   "source": [
    "cla01 = cla2[0:300]\n",
    "cla02 = cla2[300:600]\n",
    "cla03 = cla2[600:900]\n",
    "cla04 = cla2[900:1200]\n",
    "cla05 = cla2[1200:1500]\n",
    "cla06 = cla2[1500:]"
   ]
  },
  {
   "cell_type": "code",
   "execution_count": null,
   "metadata": {},
   "outputs": [],
   "source": [
    "cla01.reset_index(inplace=True,drop=True)\n",
    "cla02.reset_index(inplace=True,drop=True)\n",
    "cla03.reset_index(inplace=True,drop=True)\n",
    "cla04.reset_index(inplace=True,drop=True)\n",
    "cla05.reset_index(inplace=True,drop=True)\n",
    "cla06.reset_index(inplace=True,drop=True)"
   ]
  },
  {
   "cell_type": "code",
   "execution_count": null,
   "metadata": {},
   "outputs": [],
   "source": [
    "cla02.head(1)"
   ]
  },
  {
   "cell_type": "code",
   "execution_count": null,
   "metadata": {},
   "outputs": [],
   "source": [
    "%%time\n",
    "from selenium.webdriver.common.by import By\n",
    "cbs = []\n",
    "for idx in range(len(cla01)):\n",
    "    driver.get('https://everytime.kr/lecture')\n",
    "    driver.implicitly_wait(5)\n",
    "    lecture_name = driver.find_element_by_name(\"keyword\")\n",
    "    lecture_name.clear()\n",
    "    lecture_name.send_keys(cla01.iloc[idx,0])\n",
    "    lecture_name.submit()\n",
    "    driver.implicitly_wait(5)\n",
    "    a = driver.find_elements(By.CLASS_NAME, 'lecture')\n",
    "    \n",
    "    flag = 0\n",
    "    try:\n",
    "        for i in range(len(a)):\n",
    "            flag = 0\n",
    "\n",
    "            if a[i].find_element_by_xpath(\".//p[@class='professor']\").text == cla01.iloc[idx,1]:\n",
    "                a[i].click()\n",
    "                sleep(0.1)\n",
    "                driver.implicitly_wait(5)\n",
    "                html = driver.page_source\n",
    "                soup = BeautifulSoup(html, 'html.parser')\n",
    "                books = soup.select('div.books > div.wrap')\n",
    "                if books == []:\n",
    "                    flag=1\n",
    "                else:\n",
    "                    book = books[0].select('div.books > div.wrap > a.book')\n",
    "                    for ll in range(len(book)):\n",
    "                        cb = []\n",
    "                        cb.append(cla01.iloc[idx,0])\n",
    "                        cb.append(cla01.iloc[idx,1])\n",
    "                        title = book[ll].select('div.books > div.wrap > a.book > h3')\n",
    "                        detail = book[ll].select('div.books > div.wrap > a.book > p')\n",
    "                        cb.append(title)\n",
    "                        for ii in range(len(detail)):\n",
    "                            cb.append(detail[ii].text)\n",
    "                        cbs.append(cb)   \n",
    "                flag=1\n",
    "            if flag == 1:\n",
    "                break\n",
    "    except:\n",
    "        ;\n",
    "    "
   ]
  },
  {
   "cell_type": "code",
   "execution_count": null,
   "metadata": {},
   "outputs": [],
   "source": [
    "cbs01 = pd.DataFrame(cbs)\n",
    "cbs01.to_csv('cbs001.csv', index=False)"
   ]
  },
  {
   "cell_type": "code",
   "execution_count": null,
   "metadata": {},
   "outputs": [],
   "source": [
    "driver = webdriver.Chrome(executable_path=r'./chromedriver')\n",
    "driver.get('https://everytime.kr/login')\n",
    "driver.implicitly_wait(5)\n",
    "username = ''\n",
    "password = ''\n",
    "\n",
    "driver.find_element_by_name('userid').send_keys(username)\n",
    "driver.find_element_by_name('password').send_keys(password)\n",
    "driver.find_element_by_xpath('//*[@id=\"container\"]/form/p[3]/input').click()"
   ]
  },
  {
   "cell_type": "code",
   "execution_count": null,
   "metadata": {},
   "outputs": [],
   "source": [
    "%%time\n",
    "cbs2 = []\n",
    "from selenium.webdriver.common.by import By\n",
    "for idx in range(len(cla02)):\n",
    "    driver.get('https://everytime.kr/lecture')\n",
    "    driver.implicitly_wait(5)\n",
    "    lecture_name = driver.find_element_by_name(\"keyword\")\n",
    "    lecture_name.clear()\n",
    "    lecture_name.send_keys(cla02.iloc[idx,0])\n",
    "    lecture_name.submit()\n",
    "    driver.implicitly_wait(5)\n",
    "    a = driver.find_elements(By.CLASS_NAME, 'lecture')\n",
    "    flag = 0\n",
    "    try:\n",
    "        for i in range(len(a)):\n",
    "            flag = 0\n",
    "        \n",
    "            if a[i].find_element_by_xpath(\".//p[@class='professor']\").text == cla02.iloc[idx,1]:\n",
    "                a[i].click()\n",
    "                sleep(0.1)\n",
    "                driver.implicitly_wait(5)\n",
    "                html = driver.page_source\n",
    "                soup = BeautifulSoup(html, 'html.parser')\n",
    "                books = soup.select('div.books > div.wrap')\n",
    "                if books == []:\n",
    "                    flag=1\n",
    "                else:\n",
    "                    book = books[0].select('div.books > div.wrap > a.book')\n",
    "                    for ll in range(len(book)):\n",
    "                        cb = []\n",
    "                        cb.append(cla02.iloc[idx,0])\n",
    "                        cb.append(cla02.iloc[idx,1])\n",
    "                        title = book[ll].select('div.books > div.wrap > a.book > h3')\n",
    "                        detail = book[ll].select('div.books > div.wrap > a.book > p')\n",
    "                        cb.append(title)\n",
    "                        for ii in range(len(detail)):\n",
    "                            cb.append(detail[ii].text)\n",
    "                        cbs2.append(cb)   \n",
    "                flag=1\n",
    "            if flag == 1:\n",
    "                break\n",
    "    except:\n",
    "        ;\n",
    "    "
   ]
  },
  {
   "cell_type": "code",
   "execution_count": null,
   "metadata": {},
   "outputs": [],
   "source": [
    "cbs02 = pd.DataFrame(cbs2)\n",
    "cbs02.to_csv('cbs002.csv', index=False)"
   ]
  },
  {
   "cell_type": "code",
   "execution_count": null,
   "metadata": {},
   "outputs": [],
   "source": [
    "driver = webdriver.Chrome(executable_path=r'./chromedriver')\n",
    "driver.get('https://everytime.kr/login')\n",
    "driver.implicitly_wait(5)\n",
    "username = ''\n",
    "password = ''\n",
    "\n",
    "driver.find_element_by_name('userid').send_keys(username)\n",
    "driver.find_element_by_name('password').send_keys(password)\n",
    "driver.find_element_by_xpath('//*[@id=\"container\"]/form/p[3]/input').click()"
   ]
  },
  {
   "cell_type": "code",
   "execution_count": null,
   "metadata": {},
   "outputs": [],
   "source": [
    "cbs3 = []\n",
    "from selenium.webdriver.common.by import By\n",
    "for idx in range(len(cla03)):\n",
    "    driver.get('https://everytime.kr/lecture')\n",
    "    driver.implicitly_wait(5)\n",
    "    lecture_name = driver.find_element_by_name(\"keyword\")\n",
    "    lecture_name.clear()\n",
    "    lecture_name.send_keys(cla03.iloc[idx,0])\n",
    "    lecture_name.submit()\n",
    "    driver.implicitly_wait(5)\n",
    "    a = driver.find_elements(By.CLASS_NAME, 'lecture')\n",
    "    flag = 0\n",
    "    try:\n",
    "        for i in range(len(a)):\n",
    "            flag = 0\n",
    "        \n",
    "            if a[i].find_element_by_xpath(\".//p[@class='professor']\").text == cla03.iloc[idx,1]:\n",
    "                a[i].click()\n",
    "                sleep(0.1)\n",
    "                driver.implicitly_wait(5)\n",
    "                html = driver.page_source\n",
    "                soup = BeautifulSoup(html, 'html.parser')\n",
    "                books = soup.select('div.books > div.wrap')\n",
    "                if books == []:\n",
    "                    flag=1\n",
    "                else:\n",
    "                    book = books[0].select('div.books > div.wrap > a.book')\n",
    "                    for ll in range(len(book)):\n",
    "                        cb = []\n",
    "                        cb.append(cla03.iloc[idx,0])\n",
    "                        cb.append(cla03.iloc[idx,1])\n",
    "                        title = book[ll].select('div.books > div.wrap > a.book > h3')\n",
    "                        detail = book[ll].select('div.books > div.wrap > a.book > p')\n",
    "                        cb.append(title)\n",
    "                        for ii in range(len(detail)):\n",
    "                            cb.append(detail[ii].text)\n",
    "                        cbs3.append(cb)   \n",
    "                flag=1\n",
    "            if flag == 1:\n",
    "                break\n",
    "    except:\n",
    "        ;\n",
    "    "
   ]
  },
  {
   "cell_type": "code",
   "execution_count": null,
   "metadata": {},
   "outputs": [],
   "source": [
    "cbs03 = pd.DataFrame(cbs3)\n",
    "cbs03.to_csv('cbs003.csv', index=False)"
   ]
  },
  {
   "cell_type": "code",
   "execution_count": null,
   "metadata": {},
   "outputs": [],
   "source": [
    "driver = webdriver.Chrome(executable_path=r'./chromedriver')\n",
    "driver.get('https://everytime.kr/login')\n",
    "driver.implicitly_wait(5)\n",
    "username = ''\n",
    "password = ''\n",
    "\n",
    "driver.find_element_by_name('userid').send_keys(username)\n",
    "driver.find_element_by_name('password').send_keys(password)\n",
    "driver.find_element_by_xpath('//*[@id=\"container\"]/form/p[3]/input').click()"
   ]
  },
  {
   "cell_type": "code",
   "execution_count": null,
   "metadata": {},
   "outputs": [],
   "source": [
    "from selenium.webdriver.common.by import By\n",
    "cbs4 = []\n",
    "for idx in range(len(cla04)):\n",
    "    driver.get('https://everytime.kr/lecture')\n",
    "    driver.implicitly_wait(5)\n",
    "    lecture_name = driver.find_element_by_name(\"keyword\")\n",
    "    lecture_name.clear()\n",
    "    lecture_name.send_keys(cla04.iloc[idx,0])\n",
    "    lecture_name.submit()\n",
    "    driver.implicitly_wait(5)\n",
    "    a = driver.find_elements(By.CLASS_NAME, 'lecture')\n",
    "    flag = 0\n",
    "    try:\n",
    "        for i in range(len(a)):\n",
    "            flag = 0\n",
    "        \n",
    "            if a[i].find_element_by_xpath(\".//p[@class='professor']\").text == cla04.iloc[idx,1]:\n",
    "                a[i].click()\n",
    "                sleep(0.1)\n",
    "                driver.implicitly_wait(5)\n",
    "                html = driver.page_source\n",
    "                soup = BeautifulSoup(html, 'html.parser')\n",
    "                books = soup.select('div.books > div.wrap')\n",
    "                if books == []:\n",
    "                    flag=1\n",
    "                else:\n",
    "                    book = books[0].select('div.books > div.wrap > a.book')\n",
    "                    for ll in range(len(book)):\n",
    "                        cb = []\n",
    "                        cb.append(cla04.iloc[idx,0])\n",
    "                        cb.append(cla04.iloc[idx,1])\n",
    "                        title = book[ll].select('div.books > div.wrap > a.book > h3')\n",
    "                        detail = book[ll].select('div.books > div.wrap > a.book > p')\n",
    "                        cb.append(title)\n",
    "                        for ii in range(len(detail)):\n",
    "                            cb.append(detail[ii].text)\n",
    "                        cbs4.append(cb)   \n",
    "                flag=1\n",
    "            if flag == 1:\n",
    "                break\n",
    "    except:\n",
    "        ;\n",
    "    "
   ]
  },
  {
   "cell_type": "code",
   "execution_count": null,
   "metadata": {},
   "outputs": [],
   "source": [
    "cbs04 = pd.DataFrame(cbs4)\n",
    "cbs04.to_csv('cbs004.csv', index=False)"
   ]
  },
  {
   "cell_type": "code",
   "execution_count": null,
   "metadata": {},
   "outputs": [],
   "source": [
    "driver = webdriver.Chrome(executable_path=r'./chromedriver')\n",
    "driver.get('https://everytime.kr/login')\n",
    "driver.implicitly_wait(5)\n",
    "username = ''\n",
    "password = ''\n",
    "\n",
    "driver.find_element_by_name('userid').send_keys(username)\n",
    "driver.find_element_by_name('password').send_keys(password)\n",
    "driver.find_element_by_xpath('//*[@id=\"container\"]/form/p[3]/input').click()"
   ]
  },
  {
   "cell_type": "code",
   "execution_count": null,
   "metadata": {},
   "outputs": [],
   "source": [
    "from selenium.webdriver.common.by import By\n",
    "cbs5 = []\n",
    "for idx in range(len(cla05)):\n",
    "    driver.get('https://everytime.kr/lecture')\n",
    "    driver.implicitly_wait(5)\n",
    "    lecture_name = driver.find_element_by_name(\"keyword\")\n",
    "    lecture_name.clear()\n",
    "    lecture_name.send_keys(cla05.iloc[idx,0])\n",
    "    lecture_name.submit()\n",
    "    driver.implicitly_wait(5)\n",
    "    a = driver.find_elements(By.CLASS_NAME, 'lecture')\n",
    "    flag = 0\n",
    "    try:\n",
    "        for i in range(len(a)):\n",
    "            flag = 0\n",
    "        \n",
    "            if a[i].find_element_by_xpath(\".//p[@class='professor']\").text == cla05.iloc[idx,1]:\n",
    "                a[i].click()\n",
    "                sleep(0.1)\n",
    "                driver.implicitly_wait(5)\n",
    "                html = driver.page_source\n",
    "                soup = BeautifulSoup(html, 'html.parser')\n",
    "                books = soup.select('div.books > div.wrap')\n",
    "                if books == []:\n",
    "                    flag=1\n",
    "                else:\n",
    "                    book = books[0].select('div.books > div.wrap > a.book')\n",
    "                    for ll in range(len(book)):\n",
    "                        cb = []\n",
    "                        cb.append(cla05.iloc[idx,0])\n",
    "                        cb.append(cla05.iloc[idx,1])\n",
    "                        title = book[ll].select('div.books > div.wrap > a.book > h3')\n",
    "                        detail = book[ll].select('div.books > div.wrap > a.book > p')\n",
    "                        cb.append(title)\n",
    "                        for ii in range(len(detail)):\n",
    "                            cb.append(detail[ii].text)\n",
    "                        cbs5.append(cb)   \n",
    "                flag=1\n",
    "            if flag == 1:\n",
    "                break\n",
    "    except:\n",
    "        ;\n",
    "    "
   ]
  },
  {
   "cell_type": "code",
   "execution_count": null,
   "metadata": {},
   "outputs": [],
   "source": [
    "cbs05 = pd.DataFrame(cbs5)\n",
    "cbs05.to_csv('cbs005.csv', index=False)"
   ]
  },
  {
   "cell_type": "code",
   "execution_count": null,
   "metadata": {},
   "outputs": [],
   "source": [
    "driver = webdriver.Chrome(executable_path=r'./chromedriver')\n",
    "driver.get('https://everytime.kr/login')\n",
    "driver.implicitly_wait(5)\n",
    "username = ''\n",
    "password = ''\n",
    "\n",
    "driver.find_element_by_name('userid').send_keys(username)\n",
    "driver.find_element_by_name('password').send_keys(password)\n",
    "driver.find_element_by_xpath('//*[@id=\"container\"]/form/p[3]/input').click()"
   ]
  },
  {
   "cell_type": "code",
   "execution_count": null,
   "metadata": {},
   "outputs": [],
   "source": [
    "from selenium.webdriver.common.by import By\n",
    "cbs6 = []\n",
    "for idx in range(len(cla06)):\n",
    "    driver.get('https://everytime.kr/lecture')\n",
    "    driver.implicitly_wait(5)\n",
    "    lecture_name = driver.find_element_by_name(\"keyword\")\n",
    "    lecture_name.clear()\n",
    "    lecture_name.send_keys(cla06.iloc[idx,0])\n",
    "    lecture_name.submit()\n",
    "    driver.implicitly_wait(5)\n",
    "    a = driver.find_elements(By.CLASS_NAME, 'lecture')\n",
    "    flag = 0\n",
    "    try:\n",
    "        for i in range(len(a)):\n",
    "            flag = 0\n",
    "            sleep(1)\n",
    "            if a[i].find_element_by_xpath(\".//p[@class='professor']\").text == cla06.iloc[idx,1]:\n",
    "                a[i].click()\n",
    "                sleep(0.1)\n",
    "                driver.implicitly_wait(5)\n",
    "                html = driver.page_source\n",
    "                soup = BeautifulSoup(html, 'html.parser')\n",
    "                books = soup.select('div.books > div.wrap')\n",
    "                driver.implicitly_wait(5)\n",
    "                if books == []:\n",
    "                    flag=1\n",
    "                else:\n",
    "                    book = books[0].select('div.books > div.wrap > a.book')\n",
    "                    for ll in range(len(book)):\n",
    "                        cb = []\n",
    "                        cb.append(cla06.iloc[idx,0])\n",
    "                        cb.append(cla06.iloc[idx,1])\n",
    "                        title = book[ll].select('div.books > div.wrap > a.book > h3')\n",
    "                        detail = book[ll].select('div.books > div.wrap > a.book > p')\n",
    "                        cb.append(title)\n",
    "                        for ii in range(len(detail)):\n",
    "                            cb.append(detail[ii].text)\n",
    "                        print(cb)\n",
    "                        cbs6.append(cb)   \n",
    "                flag=1\n",
    "            if flag == 1:\n",
    "                break\n",
    "    except:\n",
    "        ;\n",
    "    "
   ]
  },
  {
   "cell_type": "code",
   "execution_count": null,
   "metadata": {},
   "outputs": [],
   "source": [
    "cbs06 = pd.DataFrame(cbs6)\n",
    "cbs06.to_csv('cbs006.csv', index=False)"
   ]
  },
  {
   "cell_type": "code",
   "execution_count": null,
   "metadata": {},
   "outputs": [],
   "source": [
    "Classbooks = pd.concat([cbs01, cbs02,cbs03,cbs04,cbs05,cbs06],axis=0)\n",
    "len(Classbooks)"
   ]
  },
  {
   "cell_type": "code",
   "execution_count": null,
   "metadata": {},
   "outputs": [],
   "source": [
    "Classbooks.to_csv('ClassBooks.csv', index=False)"
   ]
  }
 ],
 "metadata": {
  "kernelspec": {
   "display_name": "Python 3",
   "language": "python",
   "name": "python3"
  },
  "language_info": {
   "codemirror_mode": {
    "name": "ipython",
    "version": 3
   },
   "file_extension": ".py",
   "mimetype": "text/x-python",
   "name": "python",
   "nbconvert_exporter": "python",
   "pygments_lexer": "ipython3",
   "version": "3.6.8"
  }
 },
 "nbformat": 4,
 "nbformat_minor": 2
}
