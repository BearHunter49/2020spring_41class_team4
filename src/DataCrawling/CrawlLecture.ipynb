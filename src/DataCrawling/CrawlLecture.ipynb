{
 "cells": [
  {
   "cell_type": "code",
   "execution_count": null,
   "metadata": {},
   "outputs": [],
   "source": [
    "from selenium import webdriver\n",
    "from selenium.webdriver.support.ui import Select\n",
    "from bs4 import BeautifulSoup\n",
    "from time import sleep\n",
    "from openpyxl import Workbook,load_workbook\n",
    "import pandas as pd\n",
    "import getpass"
   ]
  },
  {
   "cell_type": "markdown",
   "metadata": {},
   "source": [
    "Everytime 키고 Login 진행"
   ]
  },
  {
   "cell_type": "code",
   "execution_count": null,
   "metadata": {},
   "outputs": [],
   "source": [
    "driver = webdriver.Chrome(executable_path=r'./chromedriver')\n",
    "\n",
    "\n",
    "driver.get('https://everytime.kr/login')\n",
    "\n",
    "driver.implicitly_wait(5)\n",
    "username = ''\n",
    "password = ''\n",
    "\n",
    "driver.find_element_by_name('userid').send_keys(username)\n",
    "driver.find_element_by_name('password').send_keys(password)\n",
    "\n",
    "\n",
    "driver.find_element_by_xpath('//*[@id=\"container\"]/form/p[3]/input').click()"
   ]
  },
  {
   "cell_type": "code",
   "execution_count": null,
   "metadata": {},
   "outputs": [],
   "source": [
    "driver.get('https://everytime.kr/timetable')\n",
    "#### 이전 학기꺼 크롤링하려면 2줄 사용.##### 20-1 은 default.\n",
    "select = Select(driver.find_element_by_id('semesters'))\n",
    "select.select_by_visible_text('2019년 2학기')\n"
   ]
  },
  {
   "cell_type": "code",
   "execution_count": null,
   "metadata": {},
   "outputs": [],
   "source": [
    "button = driver.find_element_by_xpath('//*[@id=\"container\"]/ul/li[1]')\n",
    "driver.execute_script(\"arguments[0].click();\", button)\n",
    "\n",
    "sleep(2)\n",
    "button2 = driver.find_element_by_xpath('//*[@id=\"sheet\"]/ul/li[3]/a')#.click()\n",
    "driver.execute_script(\"arguments[0].click();\", button2)"
   ]
  },
  {
   "cell_type": "code",
   "execution_count": null,
   "metadata": {
    "scrolled": false
   },
   "outputs": [],
   "source": [
    "pre_count = 0\n",
    "\n",
    "while True:\n",
    "    element = driver.find_elements_by_css_selector(\"#subjects > div.list > table > tbody > tr\")\n",
    "    result = element[-1]\n",
    "    \n",
    "    driver.execute_script('arguments[0].scrollIntoView(true);',result)\n",
    "    sleep(2)\n",
    "    current_count = len(element)\n",
    "    if pre_count == current_count:\n",
    "        break\n",
    "    \n",
    "    pre_count = current_count\n",
    "\n",
    "\n",
    "html = driver.page_source\n",
    "soup = BeautifulSoup(html, 'html.parser')\n",
    "\n",
    "trs = soup.select('#subjects > div.list > table > tbody > tr')\n",
    "\n",
    "results = []\n",
    "print(trs)\n",
    "for tr in trs:\n",
    "    result=[]\n",
    "    tds = tr.select('#subjects > div.list > table > tbody > tr > td')\n",
    "    result.append(tds[0].text) #구분\n",
    "    result.append(tds[1].text) #과목코드\n",
    "    result.append(tds[2].text) #과목명\n",
    "    result.append(tds[3].text) #교수\n",
    "    result.append(tds[4].text) #시간\n",
    "    result.append(tds[5].text) #학점\n",
    "    result.append(tds[6].text) #강의평\n",
    "    results.append(result)\n",
    "\n",
    "\n",
    "rr = results\n",
    "rr = pd.DataFrame(rr)\n",
    "rr.to_csv('C:/Users/82107/python/20-1SoftwareEngineering\\everytime-timetable-crawling-master/RRclass19-2.csv', index=False)"
   ]
  }
 ],
 "metadata": {
  "kernelspec": {
   "display_name": "Python 3",
   "language": "python",
   "name": "python3"
  },
  "language_info": {
   "codemirror_mode": {
    "name": "ipython",
    "version": 3
   },
   "file_extension": ".py",
   "mimetype": "text/x-python",
   "name": "python",
   "nbconvert_exporter": "python",
   "pygments_lexer": "ipython3",
   "version": "3.6.8"
  }
 },
 "nbformat": 4,
 "nbformat_minor": 4
}
