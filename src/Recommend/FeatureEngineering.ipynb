{
  "nbformat": 4,
  "nbformat_minor": 0,
  "metadata": {
    "colab": {
      "name": "FeatureEngineering.ipynb",
      "provenance": [],
      "collapsed_sections": []
    },
    "kernelspec": {
      "name": "python3",
      "display_name": "Python 3"
    }
  },
  "cells": [
    {
      "cell_type": "code",
      "metadata": {
        "id": "13nZCPqQXRdd",
        "colab_type": "code",
        "outputId": "88e7cc12-3e88-4f52-a338-6529b008fffe",
        "colab": {
          "base_uri": "https://localhost:8080/",
          "height": 164
        }
      },
      "source": [
        "import numpy as np\n",
        "import pandas as pd\n",
        "import matplotlib.pyplot as plt\n",
        "import seaborn as sns\n",
        "from google.colab import drive\n",
        "drive.mount('/content/drive', force_remount=True)"
      ],
      "execution_count": 0,
      "outputs": [
        {
          "output_type": "stream",
          "text": [
            "/usr/local/lib/python3.6/dist-packages/statsmodels/tools/_testing.py:19: FutureWarning: pandas.util.testing is deprecated. Use the functions in the public API at pandas.testing instead.\n",
            "  import pandas.util.testing as tm\n"
          ],
          "name": "stderr"
        },
        {
          "output_type": "stream",
          "text": [
            "Go to this URL in a browser: https://accounts.google.com/o/oauth2/auth?client_id=947318989803-6bn6qk8qdgf4n4g3pfee6491hc0brc4i.apps.googleusercontent.com&redirect_uri=urn%3aietf%3awg%3aoauth%3a2.0%3aoob&response_type=code&scope=email%20https%3a%2f%2fwww.googleapis.com%2fauth%2fdocs.test%20https%3a%2f%2fwww.googleapis.com%2fauth%2fdrive%20https%3a%2f%2fwww.googleapis.com%2fauth%2fdrive.photos.readonly%20https%3a%2f%2fwww.googleapis.com%2fauth%2fpeopleapi.readonly\n",
            "\n",
            "Enter your authorization code:\n",
            "··········\n",
            "Mounted at /content/drive\n"
          ],
          "name": "stdout"
        }
      ]
    },
    {
      "cell_type": "code",
      "metadata": {
        "id": "YwkbBO5-YK1d",
        "colab_type": "code",
        "outputId": "d43e2e7c-8026-4dc5-d2aa-e9e6b135e82b",
        "colab": {
          "base_uri": "https://localhost:8080/",
          "height": 35
        }
      },
      "source": [
        "!pwd"
      ],
      "execution_count": 0,
      "outputs": [
        {
          "output_type": "stream",
          "text": [
            "/content\n"
          ],
          "name": "stdout"
        }
      ]
    },
    {
      "cell_type": "markdown",
      "metadata": {
        "id": "88kftxvZ-6v7",
        "colab_type": "text"
      },
      "source": [
        "## Data Loading\n",
        "### Crawled from Everytime"
      ]
    },
    {
      "cell_type": "code",
      "metadata": {
        "id": "fVU3ZmS5XfVS",
        "colab_type": "code",
        "colab": {}
      },
      "source": [
        "book1 = pd.read_csv('/content/drive/My Drive/Colab Notebooks/SKKU_SoftwareEngineeringRecommendation/Data/ClassBooks(19-2).csv')\n",
        "book2 = pd.read_csv('/content/drive/My Drive/Colab Notebooks/SKKU_SoftwareEngineeringRecommendation/Data/ClassBooks.csv')\n",
        "\n",
        "lec1 = pd.read_csv('/content/drive/My Drive/Colab Notebooks/SKKU_SoftwareEngineeringRecommendation/Data/RRclass19-2.csv')\n",
        "lec2 = pd.read_csv('/content/drive/My Drive/Colab Notebooks/SKKU_SoftwareEngineeringRecommendation/Data/RRclass20-1.csv')"
      ],
      "execution_count": 0,
      "outputs": []
    },
    {
      "cell_type": "code",
      "metadata": {
        "id": "GHCO3n4qYU4a",
        "colab_type": "code",
        "colab": {}
      },
      "source": [
        "book = pd.concat([book1, book2])"
      ],
      "execution_count": 0,
      "outputs": []
    },
    {
      "cell_type": "markdown",
      "metadata": {
        "id": "mFwLxQXA_Ix8",
        "colab_type": "text"
      },
      "source": [
        "## Feature Engineering"
      ]
    },
    {
      "cell_type": "code",
      "metadata": {
        "id": "io35u2f_Ybcf",
        "colab_type": "code",
        "colab": {}
      },
      "source": [
        "book.columns = ['lec','prof','bk','author','publisher','money']"
      ],
      "execution_count": 0,
      "outputs": []
    },
    {
      "cell_type": "code",
      "metadata": {
        "id": "8MAOyWAPYuPx",
        "colab_type": "code",
        "colab": {}
      },
      "source": [
        "book['bk'] = book['bk'].str[5:-6]"
      ],
      "execution_count": 0,
      "outputs": []
    },
    {
      "cell_type": "code",
      "metadata": {
        "id": "j6Zwg4IJYx_S",
        "colab_type": "code",
        "colab": {}
      },
      "source": [
        "lec = pd.concat([lec1, lec2])"
      ],
      "execution_count": 0,
      "outputs": []
    },
    {
      "cell_type": "code",
      "metadata": {
        "id": "6ywkWKxH-HU9",
        "colab_type": "code",
        "colab": {}
      },
      "source": [
        "book.reset_index(inplace=True,drop=True)"
      ],
      "execution_count": 0,
      "outputs": []
    },
    {
      "cell_type": "code",
      "metadata": {
        "id": "uIYQeNd2-Rbi",
        "colab_type": "code",
        "colab": {}
      },
      "source": [
        "bkname = book['bk']"
      ],
      "execution_count": 0,
      "outputs": []
    },
    {
      "cell_type": "code",
      "metadata": {
        "id": "7RI0eD2ApjzF",
        "colab_type": "code",
        "outputId": "7d9ebb46-5248-41c2-a869-147078012c52",
        "colab": {
          "base_uri": "https://localhost:8080/",
          "height": 137
        }
      },
      "source": [
        "book[book['prof'] == '이은석']"
      ],
      "execution_count": 0,
      "outputs": [
        {
          "output_type": "execute_result",
          "data": {
            "text/html": [
              "<div>\n",
              "<style scoped>\n",
              "    .dataframe tbody tr th:only-of-type {\n",
              "        vertical-align: middle;\n",
              "    }\n",
              "\n",
              "    .dataframe tbody tr th {\n",
              "        vertical-align: top;\n",
              "    }\n",
              "\n",
              "    .dataframe thead th {\n",
              "        text-align: right;\n",
              "    }\n",
              "</style>\n",
              "<table border=\"1\" class=\"dataframe\">\n",
              "  <thead>\n",
              "    <tr style=\"text-align: right;\">\n",
              "      <th></th>\n",
              "      <th>lec</th>\n",
              "      <th>prof</th>\n",
              "      <th>bk</th>\n",
              "      <th>author</th>\n",
              "      <th>publisher</th>\n",
              "      <th>money</th>\n",
              "    </tr>\n",
              "  </thead>\n",
              "  <tbody>\n",
              "    <tr>\n",
              "      <th>862</th>\n",
              "      <td>소프트웨어공학개론</td>\n",
              "      <td>이은석</td>\n",
              "      <td>Software Engineering</td>\n",
              "      <td>Ian Sommerville</td>\n",
              "      <td>Pearson</td>\n",
              "      <td>20,000원49,000원</td>\n",
              "    </tr>\n",
              "    <tr>\n",
              "      <th>3151</th>\n",
              "      <td>소프트웨어공학</td>\n",
              "      <td>이은석</td>\n",
              "      <td>Software Engineering</td>\n",
              "      <td>Ian Sommerville</td>\n",
              "      <td>Pearson</td>\n",
              "      <td>20,000원49,000원</td>\n",
              "    </tr>\n",
              "    <tr>\n",
              "      <th>3158</th>\n",
              "      <td>소프트웨어공학개론</td>\n",
              "      <td>이은석</td>\n",
              "      <td>Software Engineering</td>\n",
              "      <td>Ian Sommerville</td>\n",
              "      <td>Pearson</td>\n",
              "      <td>20,000원49,000원</td>\n",
              "    </tr>\n",
              "  </tbody>\n",
              "</table>\n",
              "</div>"
            ],
            "text/plain": [
              "            lec prof  ... publisher           money\n",
              "862   소프트웨어공학개론  이은석  ...   Pearson  20,000원49,000원\n",
              "3151    소프트웨어공학  이은석  ...   Pearson  20,000원49,000원\n",
              "3158  소프트웨어공학개론  이은석  ...   Pearson  20,000원49,000원\n",
              "\n",
              "[3 rows x 6 columns]"
            ]
          },
          "metadata": {
            "tags": []
          },
          "execution_count": 27
        }
      ]
    },
    {
      "cell_type": "code",
      "metadata": {
        "id": "fx4y2bfQpmXn",
        "colab_type": "code",
        "outputId": "6ee3cdd8-8d5a-4cd7-b001-62e18b3aa2b3",
        "colab": {
          "base_uri": "https://localhost:8080/",
          "height": 167
        }
      },
      "source": [
        "book.describe()"
      ],
      "execution_count": 0,
      "outputs": [
        {
          "output_type": "execute_result",
          "data": {
            "text/html": [
              "<div>\n",
              "<style scoped>\n",
              "    .dataframe tbody tr th:only-of-type {\n",
              "        vertical-align: middle;\n",
              "    }\n",
              "\n",
              "    .dataframe tbody tr th {\n",
              "        vertical-align: top;\n",
              "    }\n",
              "\n",
              "    .dataframe thead th {\n",
              "        text-align: right;\n",
              "    }\n",
              "</style>\n",
              "<table border=\"1\" class=\"dataframe\">\n",
              "  <thead>\n",
              "    <tr style=\"text-align: right;\">\n",
              "      <th></th>\n",
              "      <th>lec</th>\n",
              "      <th>prof</th>\n",
              "      <th>bk</th>\n",
              "      <th>author</th>\n",
              "      <th>publisher</th>\n",
              "      <th>money</th>\n",
              "    </tr>\n",
              "  </thead>\n",
              "  <tbody>\n",
              "    <tr>\n",
              "      <th>count</th>\n",
              "      <td>3194</td>\n",
              "      <td>3194</td>\n",
              "      <td>3194</td>\n",
              "      <td>3194</td>\n",
              "      <td>3194</td>\n",
              "      <td>3194</td>\n",
              "    </tr>\n",
              "    <tr>\n",
              "      <th>unique</th>\n",
              "      <td>615</td>\n",
              "      <td>751</td>\n",
              "      <td>1340</td>\n",
              "      <td>1072</td>\n",
              "      <td>404</td>\n",
              "      <td>678</td>\n",
              "    </tr>\n",
              "    <tr>\n",
              "      <th>top</th>\n",
              "      <td>학술적글쓰기</td>\n",
              "      <td>장선구</td>\n",
              "      <td>Poised to presen(개정판)</td>\n",
              "      <td>성균어학원</td>\n",
              "      <td>성균관대학교출판부</td>\n",
              "      <td>5,000원20,000원</td>\n",
              "    </tr>\n",
              "    <tr>\n",
              "      <th>freq</th>\n",
              "      <td>199</td>\n",
              "      <td>45</td>\n",
              "      <td>72</td>\n",
              "      <td>169</td>\n",
              "      <td>599</td>\n",
              "      <td>184</td>\n",
              "    </tr>\n",
              "  </tbody>\n",
              "</table>\n",
              "</div>"
            ],
            "text/plain": [
              "           lec  prof                     bk author  publisher          money\n",
              "count     3194  3194                   3194   3194       3194           3194\n",
              "unique     615   751                   1340   1072        404            678\n",
              "top     학술적글쓰기   장선구  Poised to presen(개정판)  성균어학원  성균관대학교출판부  5,000원20,000원\n",
              "freq       199    45                     72    169        599            184"
            ]
          },
          "metadata": {
            "tags": []
          },
          "execution_count": 14
        }
      ]
    },
    {
      "cell_type": "code",
      "metadata": {
        "id": "nXT2aLVCqGjX",
        "colab_type": "code",
        "outputId": "a6a46f4e-d610-4656-8870-4d57595307a7",
        "colab": {
          "base_uri": "https://localhost:8080/",
          "height": 252
        }
      },
      "source": [
        "book.info()"
      ],
      "execution_count": 0,
      "outputs": [
        {
          "output_type": "stream",
          "text": [
            "<class 'pandas.core.frame.DataFrame'>\n",
            "RangeIndex: 3194 entries, 0 to 3193\n",
            "Data columns (total 6 columns):\n",
            " #   Column     Non-Null Count  Dtype \n",
            "---  ------     --------------  ----- \n",
            " 0   lec        3194 non-null   object\n",
            " 1   prof       3194 non-null   object\n",
            " 2   bk         3194 non-null   object\n",
            " 3   author     3194 non-null   object\n",
            " 4   publisher  3194 non-null   object\n",
            " 5   money      3194 non-null   object\n",
            "dtypes: object(6)\n",
            "memory usage: 149.8+ KB\n"
          ],
          "name": "stdout"
        }
      ]
    },
    {
      "cell_type": "code",
      "metadata": {
        "id": "PsuSZ_Qr-7iN",
        "colab_type": "code",
        "colab": {}
      },
      "source": [
        "bkname.drop_duplicates(inplace=True)\n",
        "bkname = pd.DataFrame(bkname)"
      ],
      "execution_count": 0,
      "outputs": []
    },
    {
      "cell_type": "code",
      "metadata": {
        "id": "g7rAxVCZ_A6x",
        "colab_type": "code",
        "colab": {}
      },
      "source": [
        "bkname.reset_index(inplace=True,drop=True)\n",
        "bkname.reset_index(inplace=True)"
      ],
      "execution_count": 0,
      "outputs": []
    },
    {
      "cell_type": "code",
      "metadata": {
        "id": "HjN5lygi_P3S",
        "colab_type": "code",
        "colab": {}
      },
      "source": [
        "bkname.columns = ['book_id','bk']"
      ],
      "execution_count": 0,
      "outputs": []
    },
    {
      "cell_type": "code",
      "metadata": {
        "id": "QG1_p-Nc8Joo",
        "colab_type": "code",
        "outputId": "656eec59-134e-4822-9ea7-cca618faff60",
        "colab": {
          "base_uri": "https://localhost:8080/",
          "height": 405
        }
      },
      "source": [
        "lec"
      ],
      "execution_count": 0,
      "outputs": [
        {
          "output_type": "execute_result",
          "data": {
            "text/html": [
              "<div>\n",
              "<style scoped>\n",
              "    .dataframe tbody tr th:only-of-type {\n",
              "        vertical-align: middle;\n",
              "    }\n",
              "\n",
              "    .dataframe tbody tr th {\n",
              "        vertical-align: top;\n",
              "    }\n",
              "\n",
              "    .dataframe thead th {\n",
              "        text-align: right;\n",
              "    }\n",
              "</style>\n",
              "<table border=\"1\" class=\"dataframe\">\n",
              "  <thead>\n",
              "    <tr style=\"text-align: right;\">\n",
              "      <th></th>\n",
              "      <th>0</th>\n",
              "      <th>1</th>\n",
              "      <th>2</th>\n",
              "      <th>3</th>\n",
              "      <th>4</th>\n",
              "      <th>5</th>\n",
              "      <th>6</th>\n",
              "    </tr>\n",
              "  </thead>\n",
              "  <tbody>\n",
              "    <tr>\n",
              "      <th>0</th>\n",
              "      <td>기타</td>\n",
              "      <td>GELT066-01</td>\n",
              "      <td>4차산업혁명의이해와진로탐색</td>\n",
              "      <td>배상훈</td>\n",
              "      <td>화15:00-15:50【31406】화16:00-16:50【31406】</td>\n",
              "      <td>1</td>\n",
              "      <td>4.00</td>\n",
              "    </tr>\n",
              "    <tr>\n",
              "      <th>1</th>\n",
              "      <td>기타</td>\n",
              "      <td>GELT041-01</td>\n",
              "      <td>FYE세미나II</td>\n",
              "      <td>박은영</td>\n",
              "      <td>금18:00-18:50【50308】</td>\n",
              "      <td>1</td>\n",
              "      <td>5.00</td>\n",
              "    </tr>\n",
              "    <tr>\n",
              "      <th>2</th>\n",
              "      <td>기타</td>\n",
              "      <td>GELT041-02</td>\n",
              "      <td>FYE세미나II</td>\n",
              "      <td>전종희</td>\n",
              "      <td>금18:00-18:50【50310】</td>\n",
              "      <td>1</td>\n",
              "      <td>4.86</td>\n",
              "    </tr>\n",
              "    <tr>\n",
              "      <th>3</th>\n",
              "      <td>기타</td>\n",
              "      <td>GELT041-03</td>\n",
              "      <td>FYE세미나II</td>\n",
              "      <td>정순현</td>\n",
              "      <td>금18:00-18:50【50318】</td>\n",
              "      <td>1</td>\n",
              "      <td>4.83</td>\n",
              "    </tr>\n",
              "    <tr>\n",
              "      <th>4</th>\n",
              "      <td>기타</td>\n",
              "      <td>GELT064-I1</td>\n",
              "      <td>교실밖창업과실무기초</td>\n",
              "      <td>김경환</td>\n",
              "      <td>【iCampus 수업】</td>\n",
              "      <td>2</td>\n",
              "      <td>4.29</td>\n",
              "    </tr>\n",
              "    <tr>\n",
              "      <th>...</th>\n",
              "      <td>...</td>\n",
              "      <td>...</td>\n",
              "      <td>...</td>\n",
              "      <td>...</td>\n",
              "      <td>...</td>\n",
              "      <td>...</td>\n",
              "      <td>...</td>\n",
              "    </tr>\n",
              "    <tr>\n",
              "      <th>2195</th>\n",
              "      <td>실험실습</td>\n",
              "      <td>PHR3011-42</td>\n",
              "      <td>약학실습5</td>\n",
              "      <td>윤유석</td>\n",
              "      <td>목13:00-13:50【미지정】목14:00-14:50【미지정】목15:00-15:50...</td>\n",
              "      <td>1</td>\n",
              "      <td>0.00</td>\n",
              "    </tr>\n",
              "    <tr>\n",
              "      <th>2196</th>\n",
              "      <td>실험실습</td>\n",
              "      <td>PHR3012-41</td>\n",
              "      <td>약학실습6</td>\n",
              "      <td>윤유석</td>\n",
              "      <td>목13:00-13:50【미지정】목14:00-14:50【미지정】목15:00-15:50...</td>\n",
              "      <td>1</td>\n",
              "      <td>0.00</td>\n",
              "    </tr>\n",
              "    <tr>\n",
              "      <th>2197</th>\n",
              "      <td>실험실습</td>\n",
              "      <td>PHR3012-42</td>\n",
              "      <td>약학실습6</td>\n",
              "      <td>윤유석</td>\n",
              "      <td>목13:00-13:50【미지정】목14:00-14:50【미지정】목15:00-15:50...</td>\n",
              "      <td>1</td>\n",
              "      <td>0.00</td>\n",
              "    </tr>\n",
              "    <tr>\n",
              "      <th>2198</th>\n",
              "      <td>실험실습</td>\n",
              "      <td>PHR3015-41</td>\n",
              "      <td>약학연구1</td>\n",
              "      <td>정상전</td>\n",
              "      <td>목17:00-17:50【미지정】목18:00-18:50【미지정】목19:00-19:50...</td>\n",
              "      <td>5</td>\n",
              "      <td>0.00</td>\n",
              "    </tr>\n",
              "    <tr>\n",
              "      <th>2199</th>\n",
              "      <td>실험실습</td>\n",
              "      <td>PHR3016-41</td>\n",
              "      <td>약학연구2</td>\n",
              "      <td>정상전</td>\n",
              "      <td>토08:00-08:50【미지정】토09:00-09:50【미지정】토10:00-10:50...</td>\n",
              "      <td>5</td>\n",
              "      <td>0.00</td>\n",
              "    </tr>\n",
              "  </tbody>\n",
              "</table>\n",
              "<p>4891 rows × 7 columns</p>\n",
              "</div>"
            ],
            "text/plain": [
              "         0           1  ...  5     6\n",
              "0       기타  GELT066-01  ...  1  4.00\n",
              "1       기타  GELT041-01  ...  1  5.00\n",
              "2       기타  GELT041-02  ...  1  4.86\n",
              "3       기타  GELT041-03  ...  1  4.83\n",
              "4       기타  GELT064-I1  ...  2  4.29\n",
              "...    ...         ...  ... ..   ...\n",
              "2195  실험실습  PHR3011-42  ...  1  0.00\n",
              "2196  실험실습  PHR3012-41  ...  1  0.00\n",
              "2197  실험실습  PHR3012-42  ...  1  0.00\n",
              "2198  실험실습  PHR3015-41  ...  5  0.00\n",
              "2199  실험실습  PHR3016-41  ...  5  0.00\n",
              "\n",
              "[4891 rows x 7 columns]"
            ]
          },
          "metadata": {
            "tags": []
          },
          "execution_count": 13
        }
      ]
    },
    {
      "cell_type": "code",
      "metadata": {
        "id": "ZP-rURsXf_Z-",
        "colab_type": "code",
        "colab": {}
      },
      "source": [
        "lec.columns=['classify','serial','lec','prof','time','credit','rating']"
      ],
      "execution_count": 0,
      "outputs": []
    },
    {
      "cell_type": "code",
      "metadata": {
        "id": "DYYeQVyJiDRJ",
        "colab_type": "code",
        "outputId": "33b15387-249c-4ed0-81ed-c8cce49abf73",
        "colab": {
          "base_uri": "https://localhost:8080/",
          "height": 77
        }
      },
      "source": [
        "book.head(1)"
      ],
      "execution_count": 0,
      "outputs": [
        {
          "output_type": "execute_result",
          "data": {
            "text/html": [
              "<div>\n",
              "<style scoped>\n",
              "    .dataframe tbody tr th:only-of-type {\n",
              "        vertical-align: middle;\n",
              "    }\n",
              "\n",
              "    .dataframe tbody tr th {\n",
              "        vertical-align: top;\n",
              "    }\n",
              "\n",
              "    .dataframe thead th {\n",
              "        text-align: right;\n",
              "    }\n",
              "</style>\n",
              "<table border=\"1\" class=\"dataframe\">\n",
              "  <thead>\n",
              "    <tr style=\"text-align: right;\">\n",
              "      <th></th>\n",
              "      <th>lec</th>\n",
              "      <th>prof</th>\n",
              "      <th>bk</th>\n",
              "      <th>author</th>\n",
              "      <th>publisher</th>\n",
              "      <th>money</th>\n",
              "    </tr>\n",
              "  </thead>\n",
              "  <tbody>\n",
              "    <tr>\n",
              "      <th>0</th>\n",
              "      <td>교실밖창업과실무기초</td>\n",
              "      <td>김경환</td>\n",
              "      <td>과학기술창업론(대학생을 위한)</td>\n",
              "      <td>김경환</td>\n",
              "      <td>성균관대학교출판부</td>\n",
              "      <td>8,000원18,000원</td>\n",
              "    </tr>\n",
              "  </tbody>\n",
              "</table>\n",
              "</div>"
            ],
            "text/plain": [
              "          lec prof                bk author  publisher          money\n",
              "0  교실밖창업과실무기초  김경환  과학기술창업론(대학생을 위한)    김경환  성균관대학교출판부  8,000원18,000원"
            ]
          },
          "metadata": {
            "tags": []
          },
          "execution_count": 15
        }
      ]
    },
    {
      "cell_type": "code",
      "metadata": {
        "id": "1uQdPXXnjNUa",
        "colab_type": "code",
        "colab": {}
      },
      "source": [
        "book1 = book[['lec','prof','bk','publisher','author']]"
      ],
      "execution_count": 0,
      "outputs": []
    },
    {
      "cell_type": "code",
      "metadata": {
        "id": "nxXLDi1AiMpV",
        "colab_type": "code",
        "outputId": "f2ac3e2e-640a-440f-f40e-3a740b98635e",
        "colab": {
          "base_uri": "https://localhost:8080/",
          "height": 405
        }
      },
      "source": [
        "book1.drop_duplicates('bk').reset_index()"
      ],
      "execution_count": 0,
      "outputs": [
        {
          "output_type": "execute_result",
          "data": {
            "text/html": [
              "<div>\n",
              "<style scoped>\n",
              "    .dataframe tbody tr th:only-of-type {\n",
              "        vertical-align: middle;\n",
              "    }\n",
              "\n",
              "    .dataframe tbody tr th {\n",
              "        vertical-align: top;\n",
              "    }\n",
              "\n",
              "    .dataframe thead th {\n",
              "        text-align: right;\n",
              "    }\n",
              "</style>\n",
              "<table border=\"1\" class=\"dataframe\">\n",
              "  <thead>\n",
              "    <tr style=\"text-align: right;\">\n",
              "      <th></th>\n",
              "      <th>index</th>\n",
              "      <th>lec</th>\n",
              "      <th>prof</th>\n",
              "      <th>bk</th>\n",
              "      <th>publisher</th>\n",
              "      <th>author</th>\n",
              "    </tr>\n",
              "  </thead>\n",
              "  <tbody>\n",
              "    <tr>\n",
              "      <th>0</th>\n",
              "      <td>0</td>\n",
              "      <td>교실밖창업과실무기초</td>\n",
              "      <td>김경환</td>\n",
              "      <td>과학기술창업론(대학생을 위한)</td>\n",
              "      <td>성균관대학교출판부</td>\n",
              "      <td>김경환</td>\n",
              "    </tr>\n",
              "    <tr>\n",
              "      <th>1</th>\n",
              "      <td>1</td>\n",
              "      <td>교육방법및교육공학</td>\n",
              "      <td>서향희</td>\n",
              "      <td>교육방법 및 교육공학(2판)</td>\n",
              "      <td>양서원</td>\n",
              "      <td>유승우, 임형택, 권충훈, 이성주, 이순덕</td>\n",
              "    </tr>\n",
              "    <tr>\n",
              "      <th>2</th>\n",
              "      <td>2</td>\n",
              "      <td>교육방법및교육공학</td>\n",
              "      <td>서향희</td>\n",
              "      <td>교육방법 및 교육공학(3판)(양장본 HardCover)</td>\n",
              "      <td>양서원</td>\n",
              "      <td>유승우, 임형택, 권충훈, 이성주, 이순덕</td>\n",
              "    </tr>\n",
              "    <tr>\n",
              "      <th>3</th>\n",
              "      <td>5</td>\n",
              "      <td>교육심리</td>\n",
              "      <td>김명숙</td>\n",
              "      <td>교육심리학(3판)(양장본 HardCover)</td>\n",
              "      <td>학지사</td>\n",
              "      <td>신명희, 강소연, 김은경, 김정민, 노원경</td>\n",
              "    </tr>\n",
              "    <tr>\n",
              "      <th>4</th>\n",
              "      <td>6</td>\n",
              "      <td>교육심리</td>\n",
              "      <td>김명숙</td>\n",
              "      <td>교육심리학(4판)(양장본 HardCover)</td>\n",
              "      <td>학지사</td>\n",
              "      <td>신명희, 강소연, 김은경, 김정민, 노원경</td>\n",
              "    </tr>\n",
              "    <tr>\n",
              "      <th>...</th>\n",
              "      <td>...</td>\n",
              "      <td>...</td>\n",
              "      <td>...</td>\n",
              "      <td>...</td>\n",
              "      <td>...</td>\n",
              "      <td>...</td>\n",
              "    </tr>\n",
              "    <tr>\n",
              "      <th>1335</th>\n",
              "      <td>3171</td>\n",
              "      <td>제어공학기초</td>\n",
              "      <td>박기헌</td>\n",
              "      <td>Kuo의 자동제어(8판)</td>\n",
              "      <td>Wiley</td>\n",
              "      <td>Kuo, Farid Golnaraghi</td>\n",
              "    </tr>\n",
              "    <tr>\n",
              "      <th>1336</th>\n",
              "      <td>3188</td>\n",
              "      <td>디지털시스템</td>\n",
              "      <td>김종태</td>\n",
              "      <td>Digital Systems Design Using VHDL</td>\n",
              "      <td>Cengage Learning</td>\n",
              "      <td>Charles H Roth</td>\n",
              "    </tr>\n",
              "    <tr>\n",
              "      <th>1337</th>\n",
              "      <td>3191</td>\n",
              "      <td>데이터통신</td>\n",
              "      <td>이태진</td>\n",
              "      <td>데이터통신과 네트워킹(5판)</td>\n",
              "      <td>McGraw-Hill</td>\n",
              "      <td>Forouzan</td>\n",
              "    </tr>\n",
              "    <tr>\n",
              "      <th>1338</th>\n",
              "      <td>3192</td>\n",
              "      <td>생체역학</td>\n",
              "      <td>엄길호</td>\n",
              "      <td>생체역학 사례기반 접근</td>\n",
              "      <td>한미의학</td>\n",
              "      <td>Sean P Flanagan, 김용운, 서정석, 엄길호, 이기광</td>\n",
              "    </tr>\n",
              "    <tr>\n",
              "      <th>1339</th>\n",
              "      <td>3193</td>\n",
              "      <td>스포츠통계학</td>\n",
              "      <td>엄한주</td>\n",
              "      <td>통계학: 이해와 응용(2판)(양장본 HardCover)</td>\n",
              "      <td>시그마프레스</td>\n",
              "      <td>유극렬, 박주헌</td>\n",
              "    </tr>\n",
              "  </tbody>\n",
              "</table>\n",
              "<p>1340 rows × 6 columns</p>\n",
              "</div>"
            ],
            "text/plain": [
              "      index         lec  ...         publisher                               author\n",
              "0         0  교실밖창업과실무기초  ...         성균관대학교출판부                                  김경환\n",
              "1         1   교육방법및교육공학  ...               양서원              유승우, 임형택, 권충훈, 이성주, 이순덕\n",
              "2         2   교육방법및교육공학  ...               양서원              유승우, 임형택, 권충훈, 이성주, 이순덕\n",
              "3         5        교육심리  ...               학지사              신명희, 강소연, 김은경, 김정민, 노원경\n",
              "4         6        교육심리  ...               학지사              신명희, 강소연, 김은경, 김정민, 노원경\n",
              "...     ...         ...  ...               ...                                  ...\n",
              "1335   3171      제어공학기초  ...             Wiley                Kuo, Farid Golnaraghi\n",
              "1336   3188      디지털시스템  ...  Cengage Learning                       Charles H Roth\n",
              "1337   3191       데이터통신  ...       McGraw-Hill                             Forouzan\n",
              "1338   3192        생체역학  ...              한미의학  Sean P Flanagan, 김용운, 서정석, 엄길호, 이기광\n",
              "1339   3193      스포츠통계학  ...            시그마프레스                             유극렬, 박주헌\n",
              "\n",
              "[1340 rows x 6 columns]"
            ]
          },
          "metadata": {
            "tags": []
          },
          "execution_count": 17
        }
      ]
    },
    {
      "cell_type": "code",
      "metadata": {
        "id": "Z4crmgT88fIp",
        "colab_type": "code",
        "colab": {}
      },
      "source": [
        "llec = lec[['serial','lec','credit','rating']]"
      ],
      "execution_count": 0,
      "outputs": []
    },
    {
      "cell_type": "code",
      "metadata": {
        "id": "93rg0MuJxOeH",
        "colab_type": "code",
        "colab": {}
      },
      "source": [
        "llec = llec.drop_duplicates('lec')"
      ],
      "execution_count": 0,
      "outputs": []
    },
    {
      "cell_type": "code",
      "metadata": {
        "id": "bE125G3niYuu",
        "colab_type": "code",
        "colab": {}
      },
      "source": [
        "ser = pd.merge(book1, llec, on='lec', how='inner')"
      ],
      "execution_count": 0,
      "outputs": []
    },
    {
      "cell_type": "code",
      "metadata": {
        "id": "y8aywypdx_9E",
        "colab_type": "code",
        "colab": {}
      },
      "source": [
        "ser = ser.drop_duplicates('bk')"
      ],
      "execution_count": 0,
      "outputs": []
    },
    {
      "cell_type": "code",
      "metadata": {
        "id": "iajzlC4qzIOa",
        "colab_type": "code",
        "outputId": "35077116-1554-4ff3-e125-d4ccbfeb7d6d",
        "colab": {
          "base_uri": "https://localhost:8080/",
          "height": 405
        }
      },
      "source": [
        "ser.reset_index(drop=True, inplace=True)\n",
        "ser"
      ],
      "execution_count": 0,
      "outputs": [
        {
          "output_type": "execute_result",
          "data": {
            "text/html": [
              "<div>\n",
              "<style scoped>\n",
              "    .dataframe tbody tr th:only-of-type {\n",
              "        vertical-align: middle;\n",
              "    }\n",
              "\n",
              "    .dataframe tbody tr th {\n",
              "        vertical-align: top;\n",
              "    }\n",
              "\n",
              "    .dataframe thead th {\n",
              "        text-align: right;\n",
              "    }\n",
              "</style>\n",
              "<table border=\"1\" class=\"dataframe\">\n",
              "  <thead>\n",
              "    <tr style=\"text-align: right;\">\n",
              "      <th></th>\n",
              "      <th>lec</th>\n",
              "      <th>prof</th>\n",
              "      <th>bk</th>\n",
              "      <th>publisher</th>\n",
              "      <th>author</th>\n",
              "      <th>serial</th>\n",
              "      <th>credit</th>\n",
              "      <th>rating</th>\n",
              "    </tr>\n",
              "  </thead>\n",
              "  <tbody>\n",
              "    <tr>\n",
              "      <th>0</th>\n",
              "      <td>교실밖창업과실무기초</td>\n",
              "      <td>김경환</td>\n",
              "      <td>과학기술창업론(대학생을 위한)</td>\n",
              "      <td>성균관대학교출판부</td>\n",
              "      <td>김경환</td>\n",
              "      <td>GELT064-I1</td>\n",
              "      <td>2</td>\n",
              "      <td>4.29</td>\n",
              "    </tr>\n",
              "    <tr>\n",
              "      <th>1</th>\n",
              "      <td>교육방법및교육공학</td>\n",
              "      <td>서향희</td>\n",
              "      <td>교육방법 및 교육공학(2판)</td>\n",
              "      <td>양서원</td>\n",
              "      <td>유승우, 임형택, 권충훈, 이성주, 이순덕</td>\n",
              "      <td>CFTD005-01</td>\n",
              "      <td>2</td>\n",
              "      <td>3.06</td>\n",
              "    </tr>\n",
              "    <tr>\n",
              "      <th>2</th>\n",
              "      <td>교육방법및교육공학</td>\n",
              "      <td>서향희</td>\n",
              "      <td>교육방법 및 교육공학(3판)(양장본 HardCover)</td>\n",
              "      <td>양서원</td>\n",
              "      <td>유승우, 임형택, 권충훈, 이성주, 이순덕</td>\n",
              "      <td>CFTD005-01</td>\n",
              "      <td>2</td>\n",
              "      <td>3.06</td>\n",
              "    </tr>\n",
              "    <tr>\n",
              "      <th>3</th>\n",
              "      <td>교육방법및교육공학</td>\n",
              "      <td>강성원</td>\n",
              "      <td>교수-학습과 교육공학(3판)(양장본 HardCover)</td>\n",
              "      <td>학지사</td>\n",
              "      <td>박숙희, 염명숙</td>\n",
              "      <td>CFTD005-01</td>\n",
              "      <td>2</td>\n",
              "      <td>3.06</td>\n",
              "    </tr>\n",
              "    <tr>\n",
              "      <th>4</th>\n",
              "      <td>교육심리</td>\n",
              "      <td>김명숙</td>\n",
              "      <td>교육심리학(3판)(양장본 HardCover)</td>\n",
              "      <td>학지사</td>\n",
              "      <td>신명희, 강소연, 김은경, 김정민, 노원경</td>\n",
              "      <td>CFTD003-01</td>\n",
              "      <td>2</td>\n",
              "      <td>4.38</td>\n",
              "    </tr>\n",
              "    <tr>\n",
              "      <th>...</th>\n",
              "      <td>...</td>\n",
              "      <td>...</td>\n",
              "      <td>...</td>\n",
              "      <td>...</td>\n",
              "      <td>...</td>\n",
              "      <td>...</td>\n",
              "      <td>...</td>\n",
              "      <td>...</td>\n",
              "    </tr>\n",
              "    <tr>\n",
              "      <th>1335</th>\n",
              "      <td>제어공학기초</td>\n",
              "      <td>박기헌</td>\n",
              "      <td>Automatic Control Systems (BK+CD)</td>\n",
              "      <td>Wiley</td>\n",
              "      <td>Kuo/ Golnaraghi</td>\n",
              "      <td>EEE3024-41</td>\n",
              "      <td>3</td>\n",
              "      <td>3.50</td>\n",
              "    </tr>\n",
              "    <tr>\n",
              "      <th>1336</th>\n",
              "      <td>제어공학기초</td>\n",
              "      <td>박기헌</td>\n",
              "      <td>Kuo의 자동제어(8판)</td>\n",
              "      <td>Wiley</td>\n",
              "      <td>Kuo, Farid Golnaraghi</td>\n",
              "      <td>EEE3024-41</td>\n",
              "      <td>3</td>\n",
              "      <td>3.50</td>\n",
              "    </tr>\n",
              "    <tr>\n",
              "      <th>1337</th>\n",
              "      <td>데이터통신</td>\n",
              "      <td>이태진</td>\n",
              "      <td>데이터통신과 네트워킹(5판)</td>\n",
              "      <td>McGraw-Hill</td>\n",
              "      <td>Forouzan</td>\n",
              "      <td>ICE3025-41</td>\n",
              "      <td>3</td>\n",
              "      <td>4.09</td>\n",
              "    </tr>\n",
              "    <tr>\n",
              "      <th>1338</th>\n",
              "      <td>생체역학</td>\n",
              "      <td>엄길호</td>\n",
              "      <td>생체역학 사례기반 접근</td>\n",
              "      <td>한미의학</td>\n",
              "      <td>Sean P Flanagan, 김용운, 서정석, 엄길호, 이기광</td>\n",
              "      <td>EBM3007-41</td>\n",
              "      <td>3</td>\n",
              "      <td>2.00</td>\n",
              "    </tr>\n",
              "    <tr>\n",
              "      <th>1339</th>\n",
              "      <td>스포츠통계학</td>\n",
              "      <td>엄한주</td>\n",
              "      <td>통계학: 이해와 응용(2판)(양장본 HardCover)</td>\n",
              "      <td>시그마프레스</td>\n",
              "      <td>유극렬, 박주헌</td>\n",
              "      <td>SPT3044-41</td>\n",
              "      <td>3</td>\n",
              "      <td>2.00</td>\n",
              "    </tr>\n",
              "  </tbody>\n",
              "</table>\n",
              "<p>1340 rows × 8 columns</p>\n",
              "</div>"
            ],
            "text/plain": [
              "             lec prof  ... credit rating\n",
              "0     교실밖창업과실무기초  김경환  ...      2   4.29\n",
              "1      교육방법및교육공학  서향희  ...      2   3.06\n",
              "2      교육방법및교육공학  서향희  ...      2   3.06\n",
              "3      교육방법및교육공학  강성원  ...      2   3.06\n",
              "4           교육심리  김명숙  ...      2   4.38\n",
              "...          ...  ...  ...    ...    ...\n",
              "1335      제어공학기초  박기헌  ...      3   3.50\n",
              "1336      제어공학기초  박기헌  ...      3   3.50\n",
              "1337       데이터통신  이태진  ...      3   4.09\n",
              "1338        생체역학  엄길호  ...      3   2.00\n",
              "1339      스포츠통계학  엄한주  ...      3   2.00\n",
              "\n",
              "[1340 rows x 8 columns]"
            ]
          },
          "metadata": {
            "tags": []
          },
          "execution_count": 22
        }
      ]
    },
    {
      "cell_type": "code",
      "metadata": {
        "id": "XtBQJBBSBauE",
        "colab_type": "code",
        "colab": {}
      },
      "source": [
        ""
      ],
      "execution_count": 0,
      "outputs": []
    },
    {
      "cell_type": "code",
      "metadata": {
        "id": "WXNYzV2UyePa",
        "colab_type": "code",
        "colab": {}
      },
      "source": [
        "#ser.to_csv('/content/drive/My Drive/Colab Notebooks/SKKU_SoftwareEngineeringRecommendation/Data/bookwithSerial.csv',index=False)"
      ],
      "execution_count": 0,
      "outputs": []
    },
    {
      "cell_type": "code",
      "metadata": {
        "id": "wFLh2YwK3Xh0",
        "colab_type": "code",
        "colab": {}
      },
      "source": [
        "ser.reset_index(inplace=True)"
      ],
      "execution_count": 0,
      "outputs": []
    },
    {
      "cell_type": "markdown",
      "metadata": {
        "id": "0D3nguLd8Ho3",
        "colab_type": "text"
      },
      "source": [
        "### 학수번호에 있는 전공 (앞 3자리)\n",
        "### 4번째 자리에 있는 교양, 학부(저, 고 학년), 학석, 대학원과목 분류를 가져와 difficulty feature생성."
      ]
    },
    {
      "cell_type": "code",
      "metadata": {
        "id": "UXYIcioIzCBR",
        "colab_type": "code",
        "outputId": "263e84e8-2650-4fd0-b660-5a0a5e521521",
        "colab": {
          "base_uri": "https://localhost:8080/",
          "height": 405
        }
      },
      "source": [
        "ser['major'] = ser['serial'].str[:3]\n",
        "ser['difficulty'] = ser['serial'].str[3:4]\n",
        "ser.columns = ['book_id','lec','prof','bk','publisher','author','serial','credit','rating','major','difficulty']\n",
        "ser"
      ],
      "execution_count": 0,
      "outputs": [
        {
          "output_type": "execute_result",
          "data": {
            "text/html": [
              "<div>\n",
              "<style scoped>\n",
              "    .dataframe tbody tr th:only-of-type {\n",
              "        vertical-align: middle;\n",
              "    }\n",
              "\n",
              "    .dataframe tbody tr th {\n",
              "        vertical-align: top;\n",
              "    }\n",
              "\n",
              "    .dataframe thead th {\n",
              "        text-align: right;\n",
              "    }\n",
              "</style>\n",
              "<table border=\"1\" class=\"dataframe\">\n",
              "  <thead>\n",
              "    <tr style=\"text-align: right;\">\n",
              "      <th></th>\n",
              "      <th>book_id</th>\n",
              "      <th>lec</th>\n",
              "      <th>prof</th>\n",
              "      <th>bk</th>\n",
              "      <th>publisher</th>\n",
              "      <th>author</th>\n",
              "      <th>serial</th>\n",
              "      <th>credit</th>\n",
              "      <th>rating</th>\n",
              "      <th>major</th>\n",
              "      <th>difficulty</th>\n",
              "    </tr>\n",
              "  </thead>\n",
              "  <tbody>\n",
              "    <tr>\n",
              "      <th>0</th>\n",
              "      <td>0</td>\n",
              "      <td>교실밖창업과실무기초</td>\n",
              "      <td>김경환</td>\n",
              "      <td>과학기술창업론(대학생을 위한)</td>\n",
              "      <td>성균관대학교출판부</td>\n",
              "      <td>김경환</td>\n",
              "      <td>GELT064-I1</td>\n",
              "      <td>2</td>\n",
              "      <td>4.29</td>\n",
              "      <td>GEL</td>\n",
              "      <td>T</td>\n",
              "    </tr>\n",
              "    <tr>\n",
              "      <th>1</th>\n",
              "      <td>1</td>\n",
              "      <td>교육방법및교육공학</td>\n",
              "      <td>서향희</td>\n",
              "      <td>교육방법 및 교육공학(2판)</td>\n",
              "      <td>양서원</td>\n",
              "      <td>유승우, 임형택, 권충훈, 이성주, 이순덕</td>\n",
              "      <td>CFTD005-01</td>\n",
              "      <td>2</td>\n",
              "      <td>3.06</td>\n",
              "      <td>CFT</td>\n",
              "      <td>D</td>\n",
              "    </tr>\n",
              "    <tr>\n",
              "      <th>2</th>\n",
              "      <td>2</td>\n",
              "      <td>교육방법및교육공학</td>\n",
              "      <td>서향희</td>\n",
              "      <td>교육방법 및 교육공학(3판)(양장본 HardCover)</td>\n",
              "      <td>양서원</td>\n",
              "      <td>유승우, 임형택, 권충훈, 이성주, 이순덕</td>\n",
              "      <td>CFTD005-01</td>\n",
              "      <td>2</td>\n",
              "      <td>3.06</td>\n",
              "      <td>CFT</td>\n",
              "      <td>D</td>\n",
              "    </tr>\n",
              "    <tr>\n",
              "      <th>3</th>\n",
              "      <td>3</td>\n",
              "      <td>교육방법및교육공학</td>\n",
              "      <td>강성원</td>\n",
              "      <td>교수-학습과 교육공학(3판)(양장본 HardCover)</td>\n",
              "      <td>학지사</td>\n",
              "      <td>박숙희, 염명숙</td>\n",
              "      <td>CFTD005-01</td>\n",
              "      <td>2</td>\n",
              "      <td>3.06</td>\n",
              "      <td>CFT</td>\n",
              "      <td>D</td>\n",
              "    </tr>\n",
              "    <tr>\n",
              "      <th>4</th>\n",
              "      <td>4</td>\n",
              "      <td>교육심리</td>\n",
              "      <td>김명숙</td>\n",
              "      <td>교육심리학(3판)(양장본 HardCover)</td>\n",
              "      <td>학지사</td>\n",
              "      <td>신명희, 강소연, 김은경, 김정민, 노원경</td>\n",
              "      <td>CFTD003-01</td>\n",
              "      <td>2</td>\n",
              "      <td>4.38</td>\n",
              "      <td>CFT</td>\n",
              "      <td>D</td>\n",
              "    </tr>\n",
              "    <tr>\n",
              "      <th>...</th>\n",
              "      <td>...</td>\n",
              "      <td>...</td>\n",
              "      <td>...</td>\n",
              "      <td>...</td>\n",
              "      <td>...</td>\n",
              "      <td>...</td>\n",
              "      <td>...</td>\n",
              "      <td>...</td>\n",
              "      <td>...</td>\n",
              "      <td>...</td>\n",
              "      <td>...</td>\n",
              "    </tr>\n",
              "    <tr>\n",
              "      <th>1335</th>\n",
              "      <td>1335</td>\n",
              "      <td>제어공학기초</td>\n",
              "      <td>박기헌</td>\n",
              "      <td>Automatic Control Systems (BK+CD)</td>\n",
              "      <td>Wiley</td>\n",
              "      <td>Kuo/ Golnaraghi</td>\n",
              "      <td>EEE3024-41</td>\n",
              "      <td>3</td>\n",
              "      <td>3.50</td>\n",
              "      <td>EEE</td>\n",
              "      <td>3</td>\n",
              "    </tr>\n",
              "    <tr>\n",
              "      <th>1336</th>\n",
              "      <td>1336</td>\n",
              "      <td>제어공학기초</td>\n",
              "      <td>박기헌</td>\n",
              "      <td>Kuo의 자동제어(8판)</td>\n",
              "      <td>Wiley</td>\n",
              "      <td>Kuo, Farid Golnaraghi</td>\n",
              "      <td>EEE3024-41</td>\n",
              "      <td>3</td>\n",
              "      <td>3.50</td>\n",
              "      <td>EEE</td>\n",
              "      <td>3</td>\n",
              "    </tr>\n",
              "    <tr>\n",
              "      <th>1337</th>\n",
              "      <td>1337</td>\n",
              "      <td>데이터통신</td>\n",
              "      <td>이태진</td>\n",
              "      <td>데이터통신과 네트워킹(5판)</td>\n",
              "      <td>McGraw-Hill</td>\n",
              "      <td>Forouzan</td>\n",
              "      <td>ICE3025-41</td>\n",
              "      <td>3</td>\n",
              "      <td>4.09</td>\n",
              "      <td>ICE</td>\n",
              "      <td>3</td>\n",
              "    </tr>\n",
              "    <tr>\n",
              "      <th>1338</th>\n",
              "      <td>1338</td>\n",
              "      <td>생체역학</td>\n",
              "      <td>엄길호</td>\n",
              "      <td>생체역학 사례기반 접근</td>\n",
              "      <td>한미의학</td>\n",
              "      <td>Sean P Flanagan, 김용운, 서정석, 엄길호, 이기광</td>\n",
              "      <td>EBM3007-41</td>\n",
              "      <td>3</td>\n",
              "      <td>2.00</td>\n",
              "      <td>EBM</td>\n",
              "      <td>3</td>\n",
              "    </tr>\n",
              "    <tr>\n",
              "      <th>1339</th>\n",
              "      <td>1339</td>\n",
              "      <td>스포츠통계학</td>\n",
              "      <td>엄한주</td>\n",
              "      <td>통계학: 이해와 응용(2판)(양장본 HardCover)</td>\n",
              "      <td>시그마프레스</td>\n",
              "      <td>유극렬, 박주헌</td>\n",
              "      <td>SPT3044-41</td>\n",
              "      <td>3</td>\n",
              "      <td>2.00</td>\n",
              "      <td>SPT</td>\n",
              "      <td>3</td>\n",
              "    </tr>\n",
              "  </tbody>\n",
              "</table>\n",
              "<p>1340 rows × 11 columns</p>\n",
              "</div>"
            ],
            "text/plain": [
              "      book_id         lec prof  ... rating major difficulty\n",
              "0           0  교실밖창업과실무기초  김경환  ...   4.29   GEL          T\n",
              "1           1   교육방법및교육공학  서향희  ...   3.06   CFT          D\n",
              "2           2   교육방법및교육공학  서향희  ...   3.06   CFT          D\n",
              "3           3   교육방법및교육공학  강성원  ...   3.06   CFT          D\n",
              "4           4        교육심리  김명숙  ...   4.38   CFT          D\n",
              "...       ...         ...  ...  ...    ...   ...        ...\n",
              "1335     1335      제어공학기초  박기헌  ...   3.50   EEE          3\n",
              "1336     1336      제어공학기초  박기헌  ...   3.50   EEE          3\n",
              "1337     1337       데이터통신  이태진  ...   4.09   ICE          3\n",
              "1338     1338        생체역학  엄길호  ...   2.00   EBM          3\n",
              "1339     1339      스포츠통계학  엄한주  ...   2.00   SPT          3\n",
              "\n",
              "[1340 rows x 11 columns]"
            ]
          },
          "metadata": {
            "tags": []
          },
          "execution_count": 25
        }
      ]
    },
    {
      "cell_type": "code",
      "metadata": {
        "id": "OnmfbpNd_6Du",
        "colab_type": "code",
        "outputId": "285a368c-1690-43fd-c826-d8aad1913588",
        "colab": {
          "base_uri": "https://localhost:8080/",
          "height": 162
        }
      },
      "source": [
        "ser['major'].unique()"
      ],
      "execution_count": 0,
      "outputs": [
        {
          "output_type": "execute_result",
          "data": {
            "text/plain": [
              "array(['GEL', 'CFT', 'BIZ', 'BUS', 'ECO', 'STA', 'GBA', 'GEC', 'PSY',\n",
              "       'MAE', 'ENG', 'INT', 'CAL', 'ERC', 'COV', 'EEE', 'EME', 'ICE',\n",
              "       'SWE', 'ESM', 'ECE', 'EAM', 'ECH', 'IKS', 'KLC', 'DKL', 'GCC',\n",
              "       'HFS', 'GER', 'RUS', 'DSC', 'LIS', 'SWF', 'PHL', 'HIS', 'CHI',\n",
              "       'FRE', 'EDU', 'COM', 'PAD', 'PIL', 'PSD', 'GLD', 'USS', 'MCJ',\n",
              "       'SOC', 'CFS', 'KID', 'FBT', 'IBT', 'CHY', 'AAI', 'CNT', 'SPT',\n",
              "       'BIO', 'ART', 'COS', 'MTH', 'GED', 'DBA', 'CLA', 'LIT', 'ILI',\n",
              "       'JAP', 'CON', 'EBM'], dtype=object)"
            ]
          },
          "metadata": {
            "tags": []
          },
          "execution_count": 26
        }
      ]
    },
    {
      "cell_type": "code",
      "metadata": {
        "id": "Yd_zong__Ub8",
        "colab_type": "code",
        "outputId": "dc480e09-9d1b-4066-fca3-7cbc4a6123ad",
        "colab": {
          "base_uri": "https://localhost:8080/",
          "height": 55
        }
      },
      "source": [
        "major_dict = {i:j for (i,j) in zip(ser.major.unique(), range(ser.major.nunique()))}\n",
        "print(major_dict)"
      ],
      "execution_count": 0,
      "outputs": [
        {
          "output_type": "stream",
          "text": [
            "{'GEL': 0, 'CFT': 1, 'BIZ': 2, 'BUS': 3, 'ECO': 4, 'STA': 5, 'GBA': 6, 'GEC': 7, 'PSY': 8, 'MAE': 9, 'ENG': 10, 'INT': 11, 'CAL': 12, 'ERC': 13, 'COV': 14, 'EEE': 15, 'EME': 16, 'ICE': 17, 'SWE': 18, 'ESM': 19, 'ECE': 20, 'EAM': 21, 'ECH': 22, 'IKS': 23, 'KLC': 24, 'DKL': 25, 'GCC': 26, 'HFS': 27, 'GER': 28, 'RUS': 29, 'DSC': 30, 'LIS': 31, 'SWF': 32, 'PHL': 33, 'HIS': 34, 'CHI': 35, 'FRE': 36, 'EDU': 37, 'COM': 38, 'PAD': 39, 'PIL': 40, 'PSD': 41, 'GLD': 42, 'USS': 43, 'MCJ': 44, 'SOC': 45, 'CFS': 46, 'KID': 47, 'FBT': 48, 'IBT': 49, 'CHY': 50, 'AAI': 51, 'CNT': 52, 'SPT': 53, 'BIO': 54, 'ART': 55, 'COS': 56, 'MTH': 57, 'GED': 58, 'DBA': 59, 'CLA': 60, 'LIT': 61, 'ILI': 62, 'JAP': 63, 'CON': 64, 'EBM': 65}\n"
          ],
          "name": "stdout"
        }
      ]
    },
    {
      "cell_type": "code",
      "metadata": {
        "id": "9TQ8zva-Eu5N",
        "colab_type": "code",
        "colab": {}
      },
      "source": [
        "import pickle\n",
        "a_file = open(\"/content/drive/My Drive/Colab Notebooks/SKKU_SoftwareEngineeringRecommendation/Data/major_2_int.pkl\", \"wb\")\n",
        "pickle.dump(major_dict, a_file)\n",
        "a_file.close()"
      ],
      "execution_count": 0,
      "outputs": []
    },
    {
      "cell_type": "code",
      "metadata": {
        "id": "1wIZb14QBa9n",
        "colab_type": "code",
        "outputId": "ccb52735-3efb-43fd-ff37-28fa6daa8b30",
        "colab": {
          "base_uri": "https://localhost:8080/",
          "height": 35
        }
      },
      "source": [
        "diffi_dict = {i:j for (i,j) in zip(ser.difficulty.unique(), range(ser.difficulty.nunique()))}\n",
        "print(diffi_dict)"
      ],
      "execution_count": 0,
      "outputs": [
        {
          "output_type": "stream",
          "text": [
            "{'T': 0, 'D': 1, '2': 2, '3': 3, '7': 4, '4': 5, 'C': 6, 'R': 7, 'G': 8, 'W': 9, 'I': 10, 'S': 11, 'B': 12, 'H': 13, 'N': 14}\n"
          ],
          "name": "stdout"
        }
      ]
    },
    {
      "cell_type": "markdown",
      "metadata": {
        "id": "eOe25vnpCeJk",
        "colab_type": "text"
      },
      "source": [
        "과목분류\n",
        "\n",
        "알파벳 : 교양기초과목\n",
        "\n",
        "2 : 학부전공과목(저학년)\n",
        "\n",
        "3 : 학부전공과목(고학년)\n",
        "\n",
        "4 : 학석공통과목\n",
        "\n",
        "5 : 대학원과목(석박공통과목)\n",
        "\n",
        "6 : 박사과목\n",
        "\n",
        "이어서 알파벳은 통일시킨다."
      ]
    },
    {
      "cell_type": "code",
      "metadata": {
        "id": "C91HJFuHCdpg",
        "colab_type": "code",
        "colab": {}
      },
      "source": [
        "import re \n",
        "ser['difficulty'] = ser['difficulty'].apply(lambda x : '0' if re.match('[A-Z]', x) else x)"
      ],
      "execution_count": 0,
      "outputs": []
    },
    {
      "cell_type": "markdown",
      "metadata": {
        "id": "4tRD17A4D-dp",
        "colab_type": "text"
      },
      "source": [
        "0 : 교양\n",
        "\n",
        "1 : 전공 저학년\n",
        "\n",
        "2 : 전공 고학년\n",
        "\n"
      ]
    },
    {
      "cell_type": "code",
      "metadata": {
        "id": "vH0M3-qUDsUi",
        "colab_type": "code",
        "outputId": "a098e176-4ce5-4324-bdfe-11c1ff1a1de9",
        "colab": {
          "base_uri": "https://localhost:8080/",
          "height": 35
        }
      },
      "source": [
        "diffi_dict = {i:j for (i,j) in zip(ser.difficulty.unique(), range(ser.difficulty.nunique()))}\n",
        "print(diffi_dict)"
      ],
      "execution_count": 0,
      "outputs": [
        {
          "output_type": "stream",
          "text": [
            "{'0': 0, '2': 1, '3': 2, '7': 3, '4': 4}\n"
          ],
          "name": "stdout"
        }
      ]
    },
    {
      "cell_type": "code",
      "metadata": {
        "id": "SB8bCoS_CVK5",
        "colab_type": "code",
        "outputId": "870471f0-76b0-47e5-9d5f-675c7cf0f69b",
        "colab": {
          "base_uri": "https://localhost:8080/",
          "height": 233
        }
      },
      "source": [
        "ser['major'] = ser['major'].map(major_dict)\n",
        "ser['difficulty']"
      ],
      "execution_count": 0,
      "outputs": [
        {
          "output_type": "execute_result",
          "data": {
            "text/plain": [
              "0       0\n",
              "1       0\n",
              "2       0\n",
              "3       0\n",
              "4       0\n",
              "       ..\n",
              "1335    3\n",
              "1336    3\n",
              "1337    3\n",
              "1338    3\n",
              "1339    3\n",
              "Name: difficulty, Length: 1340, dtype: object"
            ]
          },
          "metadata": {
            "tags": []
          },
          "execution_count": 32
        }
      ]
    },
    {
      "cell_type": "code",
      "metadata": {
        "id": "TS5jCJUIEKjc",
        "colab_type": "code",
        "outputId": "a419f02a-b072-4d87-a3bd-33ebe7c06abd",
        "colab": {
          "base_uri": "https://localhost:8080/",
          "height": 35
        }
      },
      "source": [
        "ser['difficulty'].unique()"
      ],
      "execution_count": 0,
      "outputs": [
        {
          "output_type": "execute_result",
          "data": {
            "text/plain": [
              "array(['0', '2', '3', '7', '4'], dtype=object)"
            ]
          },
          "metadata": {
            "tags": []
          },
          "execution_count": 33
        }
      ]
    },
    {
      "cell_type": "markdown",
      "metadata": {
        "id": "XvVh6H4XFOBd",
        "colab_type": "text"
      },
      "source": [
        "Outlier. difficulty 설명에 없는 '7'로 분류된 과목이 하나 있음."
      ]
    },
    {
      "cell_type": "code",
      "metadata": {
        "id": "wU3dwlfLEGFu",
        "colab_type": "code",
        "outputId": "e993258a-762c-4b23-c011-0d2a4d81d8bd",
        "colab": {
          "base_uri": "https://localhost:8080/",
          "height": 80
        }
      },
      "source": [
        "ser[ser['difficulty']== '7']"
      ],
      "execution_count": 0,
      "outputs": [
        {
          "output_type": "execute_result",
          "data": {
            "text/html": [
              "<div>\n",
              "<style scoped>\n",
              "    .dataframe tbody tr th:only-of-type {\n",
              "        vertical-align: middle;\n",
              "    }\n",
              "\n",
              "    .dataframe tbody tr th {\n",
              "        vertical-align: top;\n",
              "    }\n",
              "\n",
              "    .dataframe thead th {\n",
              "        text-align: right;\n",
              "    }\n",
              "</style>\n",
              "<table border=\"1\" class=\"dataframe\">\n",
              "  <thead>\n",
              "    <tr style=\"text-align: right;\">\n",
              "      <th></th>\n",
              "      <th>book_id</th>\n",
              "      <th>lec</th>\n",
              "      <th>prof</th>\n",
              "      <th>bk</th>\n",
              "      <th>publisher</th>\n",
              "      <th>author</th>\n",
              "      <th>serial</th>\n",
              "      <th>credit</th>\n",
              "      <th>rating</th>\n",
              "      <th>major</th>\n",
              "      <th>difficulty</th>\n",
              "    </tr>\n",
              "  </thead>\n",
              "  <tbody>\n",
              "    <tr>\n",
              "      <th>198</th>\n",
              "      <td>198</td>\n",
              "      <td>계량경제이론1</td>\n",
              "      <td>한희준</td>\n",
              "      <td>계량경제학. 1(7판)</td>\n",
              "      <td>박영사</td>\n",
              "      <td>Jeffrey M Wooldridge, 한치록</td>\n",
              "      <td>ECO7002-01</td>\n",
              "      <td>3</td>\n",
              "      <td>4.73</td>\n",
              "      <td>4</td>\n",
              "      <td>7</td>\n",
              "    </tr>\n",
              "  </tbody>\n",
              "</table>\n",
              "</div>"
            ],
            "text/plain": [
              "     book_id      lec prof            bk  ... credit rating major  difficulty\n",
              "198      198  계량경제이론1  한희준  계량경제학. 1(7판)  ...      3   4.73     4           7\n",
              "\n",
              "[1 rows x 11 columns]"
            ]
          },
          "metadata": {
            "tags": []
          },
          "execution_count": 34
        }
      ]
    },
    {
      "cell_type": "markdown",
      "metadata": {
        "id": "253jyuU_pX1p",
        "colab_type": "text"
      },
      "source": [
        "계량경제이론은 고학년때 주로 듣는 수업으로 정보를 얻어 3으로 변경."
      ]
    },
    {
      "cell_type": "code",
      "metadata": {
        "id": "nrw-w_dbrKzd",
        "colab_type": "code",
        "colab": {}
      },
      "source": [
        "ser['difficulty'] = ser['difficulty'].apply(lambda x : '3' if x=='7' else x)"
      ],
      "execution_count": 0,
      "outputs": []
    },
    {
      "cell_type": "code",
      "metadata": {
        "id": "4cZukprhrhMp",
        "colab_type": "code",
        "outputId": "a13d4395-a077-42aa-a6ae-3a575cdb3f3d",
        "colab": {
          "base_uri": "https://localhost:8080/",
          "height": 35
        }
      },
      "source": [
        "diffi_dict = {i:j for (i,j) in zip(ser.difficulty.unique(), range(ser.difficulty.nunique()))}\n",
        "print(diffi_dict)"
      ],
      "execution_count": 0,
      "outputs": [
        {
          "output_type": "stream",
          "text": [
            "{'0': 0, '2': 1, '3': 2, '4': 3}\n"
          ],
          "name": "stdout"
        }
      ]
    },
    {
      "cell_type": "code",
      "metadata": {
        "id": "bM533Ge4rhll",
        "colab_type": "code",
        "colab": {}
      },
      "source": [
        "ser['difficulty'] = ser['difficulty'].map(diffi_dict)"
      ],
      "execution_count": 0,
      "outputs": []
    },
    {
      "cell_type": "code",
      "metadata": {
        "id": "4xK8eFLoYWv5",
        "colab_type": "code",
        "colab": {}
      },
      "source": [
        "ser.to_csv('/content/drive/My Drive/Colab Notebooks/SKKU_SoftwareEngineeringRecommendation/Data/booklec.csv', index=False)"
      ],
      "execution_count": 0,
      "outputs": []
    }
  ]
}